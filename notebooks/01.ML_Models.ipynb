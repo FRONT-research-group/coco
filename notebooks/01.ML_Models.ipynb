{
 "cells": [
  {
   "cell_type": "markdown",
   "id": "884102e2",
   "metadata": {},
   "source": [
    "# CoCo: ML Models"
   ]
  },
  {
   "cell_type": "code",
   "execution_count": 1,
   "id": "4996ee25",
   "metadata": {},
   "outputs": [
    {
     "name": "stderr",
     "output_type": "stream",
     "text": [
      "/home/bilito/Documents/FRONT_RG/coco/.venv/lib/python3.12/site-packages/tqdm/auto.py:21: TqdmWarning: IProgress not found. Please update jupyter and ipywidgets. See https://ipywidgets.readthedocs.io/en/stable/user_install.html\n",
      "  from .autonotebook import tqdm as notebook_tqdm\n"
     ]
    }
   ],
   "source": [
    "import os\n",
    "import json\n",
    "import pandas as pd\n",
    "import plotly.express as px\n",
    "from IPython.display import Image\n",
    "\n",
    "from coco.config.config import REGISTRY_DIR\n",
    "from coco.experiments.train_baseline import run as run_baseline\n",
    "from coco.experiments.train_bert import run as run_bert\n",
    "from coco.inference.bert_inference import InferenceHandler "
   ]
  },
  {
   "cell_type": "markdown",
   "id": "6fd9ab6a",
   "metadata": {},
   "source": [
    "## Baseline model\n",
    "\n",
    "TF-IDF vectorization combined with a Gradient Boosting Regression model"
   ]
  },
  {
   "cell_type": "code",
   "execution_count": 2,
   "id": "722f72d2",
   "metadata": {},
   "outputs": [
    {
     "name": "stdout",
     "output_type": "stream",
     "text": [
      "2025-07-17 12:06:38 - Baseline_Trainer - INFO - Baseline Metrics - MAE: 0.1381, MSE: 0.0269, RMSE: 0.1639, R²: 0.5487, MAPE: 0.2984\n"
     ]
    }
   ],
   "source": [
    "run_baseline()"
   ]
  },
  {
   "cell_type": "markdown",
   "id": "c6328795",
   "metadata": {},
   "source": [
    "## BERT-based regression model"
   ]
  },
  {
   "cell_type": "markdown",
   "id": "fc1c6a03",
   "metadata": {},
   "source": [
    "### Training"
   ]
  },
  {
   "cell_type": "code",
   "execution_count": 3,
   "id": "e1ace674",
   "metadata": {},
   "outputs": [
    {
     "name": "stdout",
     "output_type": "stream",
     "text": [
      "2025-07-17 12:06:39 - BERT_Trainer - INFO - Epoch 1/500\n"
     ]
    },
    {
     "name": "stderr",
     "output_type": "stream",
     "text": [
      "Training: 100%|██████████| 38/38 [00:21<00:00,  1.79it/s]"
     ]
    },
    {
     "name": "stdout",
     "output_type": "stream",
     "text": [
      "2025-07-17 12:07:00 - BERT_Trainer - INFO - Training loss: 0.0864\n",
      "2025-07-17 12:07:00 - BERT_Trainer - INFO - Training Metrics - MAE: 0.2369, MSE: 0.0866, RMSE: 0.2943, R²: -0.2515, MAPE: 60.8143\n",
      "2025-07-17 12:07:00 - BERT_Trainer - INFO - Validating on validation dataset\n"
     ]
    },
    {
     "name": "stderr",
     "output_type": "stream",
     "text": [
      "\n",
      "Validation: 100%|██████████| 8/8 [00:01<00:00,  7.39it/s]"
     ]
    },
    {
     "name": "stdout",
     "output_type": "stream",
     "text": [
      "2025-07-17 12:07:01 - BERT_Trainer - INFO - Validation loss: 0.0339\n",
      "2025-07-17 12:07:01 - BERT_Trainer - INFO - Validation Metrics - MAE: 0.1433, MSE: 0.0339, RMSE: 0.1841, R²: 0.4535, MAPE: 36.4506\n",
      "2025-07-17 12:07:01 - BERT_Trainer - INFO - Validation loss improved. Saving model.\n"
     ]
    },
    {
     "name": "stderr",
     "output_type": "stream",
     "text": [
      "\n"
     ]
    },
    {
     "name": "stdout",
     "output_type": "stream",
     "text": [
      "2025-07-17 12:07:02 - BERT_Trainer - INFO - Model saved at /home/bilito/Documents/FRONT_RG/coco/model_registry/best_model.pth\n",
      "2025-07-17 12:07:02 - BERT_Trainer - INFO - Epoch 2/500\n"
     ]
    },
    {
     "name": "stderr",
     "output_type": "stream",
     "text": [
      "Training: 100%|██████████| 38/38 [00:20<00:00,  1.82it/s]"
     ]
    },
    {
     "name": "stdout",
     "output_type": "stream",
     "text": [
      "2025-07-17 12:07:23 - BERT_Trainer - INFO - Training loss: 0.0394\n",
      "2025-07-17 12:07:23 - BERT_Trainer - INFO - Training Metrics - MAE: 0.1603, MSE: 0.0400, RMSE: 0.2001, R²: 0.4215, MAPE: 42.0559\n",
      "2025-07-17 12:07:23 - BERT_Trainer - INFO - Validating on validation dataset\n"
     ]
    },
    {
     "name": "stderr",
     "output_type": "stream",
     "text": [
      "\n",
      "Validation: 100%|██████████| 8/8 [00:01<00:00,  7.37it/s]"
     ]
    },
    {
     "name": "stdout",
     "output_type": "stream",
     "text": [
      "2025-07-17 12:07:24 - BERT_Trainer - INFO - Validation loss: 0.0156\n",
      "2025-07-17 12:07:24 - BERT_Trainer - INFO - Validation Metrics - MAE: 0.0964, MSE: 0.0156, RMSE: 0.1251, R²: 0.7478, MAPE: 22.8330\n",
      "2025-07-17 12:07:24 - BERT_Trainer - INFO - Validation loss improved. Saving model.\n"
     ]
    },
    {
     "name": "stderr",
     "output_type": "stream",
     "text": [
      "\n"
     ]
    },
    {
     "name": "stdout",
     "output_type": "stream",
     "text": [
      "2025-07-17 12:07:25 - BERT_Trainer - INFO - Model saved at /home/bilito/Documents/FRONT_RG/coco/model_registry/best_model.pth\n",
      "2025-07-17 12:07:25 - BERT_Trainer - INFO - Epoch 3/500\n"
     ]
    },
    {
     "name": "stderr",
     "output_type": "stream",
     "text": [
      "Training: 100%|██████████| 38/38 [00:20<00:00,  1.84it/s]"
     ]
    },
    {
     "name": "stdout",
     "output_type": "stream",
     "text": [
      "2025-07-17 12:07:46 - BERT_Trainer - INFO - Training loss: 0.0178\n",
      "2025-07-17 12:07:46 - BERT_Trainer - INFO - Training Metrics - MAE: 0.1001, MSE: 0.0180, RMSE: 0.1340, R²: 0.7406, MAPE: 25.5353\n",
      "2025-07-17 12:07:46 - BERT_Trainer - INFO - Validating on validation dataset\n"
     ]
    },
    {
     "name": "stderr",
     "output_type": "stream",
     "text": [
      "\n",
      "Validation: 100%|██████████| 8/8 [00:01<00:00,  7.23it/s]"
     ]
    },
    {
     "name": "stdout",
     "output_type": "stream",
     "text": [
      "2025-07-17 12:07:47 - BERT_Trainer - INFO - Validation loss: 0.0109\n",
      "2025-07-17 12:07:47 - BERT_Trainer - INFO - Validation Metrics - MAE: 0.0777, MSE: 0.0109, RMSE: 0.1046, R²: 0.8237, MAPE: 19.5451\n",
      "2025-07-17 12:07:47 - BERT_Trainer - INFO - Validation loss improved. Saving model.\n"
     ]
    },
    {
     "name": "stderr",
     "output_type": "stream",
     "text": [
      "\n"
     ]
    },
    {
     "name": "stdout",
     "output_type": "stream",
     "text": [
      "2025-07-17 12:07:49 - BERT_Trainer - INFO - Model saved at /home/bilito/Documents/FRONT_RG/coco/model_registry/best_model.pth\n",
      "2025-07-17 12:07:49 - BERT_Trainer - INFO - Epoch 4/500\n"
     ]
    },
    {
     "name": "stderr",
     "output_type": "stream",
     "text": [
      "Training: 100%|██████████| 38/38 [00:20<00:00,  1.82it/s]"
     ]
    },
    {
     "name": "stdout",
     "output_type": "stream",
     "text": [
      "2025-07-17 12:08:10 - BERT_Trainer - INFO - Training loss: 0.0114\n",
      "2025-07-17 12:08:10 - BERT_Trainer - INFO - Training Metrics - MAE: 0.0808, MSE: 0.0114, RMSE: 0.1069, R²: 0.8349, MAPE: 20.1049\n",
      "2025-07-17 12:08:10 - BERT_Trainer - INFO - Validating on validation dataset\n"
     ]
    },
    {
     "name": "stderr",
     "output_type": "stream",
     "text": [
      "\n",
      "Validation: 100%|██████████| 8/8 [00:01<00:00,  7.14it/s]"
     ]
    },
    {
     "name": "stdout",
     "output_type": "stream",
     "text": [
      "2025-07-17 12:08:11 - BERT_Trainer - INFO - Validation loss: 0.0089\n",
      "2025-07-17 12:08:11 - BERT_Trainer - INFO - Validation Metrics - MAE: 0.0657, MSE: 0.0089, RMSE: 0.0944, R²: 0.8564, MAPE: 16.7082\n",
      "2025-07-17 12:08:11 - BERT_Trainer - INFO - Validation loss improved. Saving model.\n"
     ]
    },
    {
     "name": "stderr",
     "output_type": "stream",
     "text": [
      "\n"
     ]
    },
    {
     "name": "stdout",
     "output_type": "stream",
     "text": [
      "2025-07-17 12:08:12 - BERT_Trainer - INFO - Model saved at /home/bilito/Documents/FRONT_RG/coco/model_registry/best_model.pth\n",
      "2025-07-17 12:08:12 - BERT_Trainer - INFO - Epoch 5/500\n"
     ]
    },
    {
     "name": "stderr",
     "output_type": "stream",
     "text": [
      "Training: 100%|██████████| 38/38 [00:20<00:00,  1.82it/s]"
     ]
    },
    {
     "name": "stdout",
     "output_type": "stream",
     "text": [
      "2025-07-17 12:08:33 - BERT_Trainer - INFO - Training loss: 0.0088\n",
      "2025-07-17 12:08:33 - BERT_Trainer - INFO - Training Metrics - MAE: 0.0728, MSE: 0.0088, RMSE: 0.0936, R²: 0.8733, MAPE: 18.1777\n",
      "2025-07-17 12:08:33 - BERT_Trainer - INFO - Validating on validation dataset\n"
     ]
    },
    {
     "name": "stderr",
     "output_type": "stream",
     "text": [
      "\n",
      "Validation: 100%|██████████| 8/8 [00:01<00:00,  7.20it/s]"
     ]
    },
    {
     "name": "stdout",
     "output_type": "stream",
     "text": [
      "2025-07-17 12:08:34 - BERT_Trainer - INFO - Validation loss: 0.0089\n",
      "2025-07-17 12:08:34 - BERT_Trainer - INFO - Validation Metrics - MAE: 0.0610, MSE: 0.0089, RMSE: 0.0944, R²: 0.8564, MAPE: 16.1356\n",
      "2025-07-17 12:08:34 - BERT_Trainer - INFO - Validation loss did not improve. Patience: 1/5\n",
      "2025-07-17 12:08:34 - BERT_Trainer - INFO - Epoch 6/500\n"
     ]
    },
    {
     "name": "stderr",
     "output_type": "stream",
     "text": [
      "\n",
      "Training: 100%|██████████| 38/38 [00:20<00:00,  1.82it/s]"
     ]
    },
    {
     "name": "stdout",
     "output_type": "stream",
     "text": [
      "2025-07-17 12:08:55 - BERT_Trainer - INFO - Training loss: 0.0052\n",
      "2025-07-17 12:08:55 - BERT_Trainer - INFO - Training Metrics - MAE: 0.0562, MSE: 0.0052, RMSE: 0.0720, R²: 0.9250, MAPE: 13.5257\n",
      "2025-07-17 12:08:55 - BERT_Trainer - INFO - Validating on validation dataset\n"
     ]
    },
    {
     "name": "stderr",
     "output_type": "stream",
     "text": [
      "\n",
      "Validation: 100%|██████████| 8/8 [00:01<00:00,  7.36it/s]"
     ]
    },
    {
     "name": "stdout",
     "output_type": "stream",
     "text": [
      "2025-07-17 12:08:56 - BERT_Trainer - INFO - Validation loss: 0.0074\n",
      "2025-07-17 12:08:56 - BERT_Trainer - INFO - Validation Metrics - MAE: 0.0562, MSE: 0.0074, RMSE: 0.0858, R²: 0.8813, MAPE: 14.7580\n",
      "2025-07-17 12:08:56 - BERT_Trainer - INFO - Validation loss improved. Saving model.\n"
     ]
    },
    {
     "name": "stderr",
     "output_type": "stream",
     "text": [
      "\n"
     ]
    },
    {
     "name": "stdout",
     "output_type": "stream",
     "text": [
      "2025-07-17 12:08:58 - BERT_Trainer - INFO - Model saved at /home/bilito/Documents/FRONT_RG/coco/model_registry/best_model.pth\n",
      "2025-07-17 12:08:58 - BERT_Trainer - INFO - Epoch 7/500\n"
     ]
    },
    {
     "name": "stderr",
     "output_type": "stream",
     "text": [
      "Training: 100%|██████████| 38/38 [00:20<00:00,  1.82it/s]"
     ]
    },
    {
     "name": "stdout",
     "output_type": "stream",
     "text": [
      "2025-07-17 12:09:19 - BERT_Trainer - INFO - Training loss: 0.0043\n",
      "2025-07-17 12:09:19 - BERT_Trainer - INFO - Training Metrics - MAE: 0.0506, MSE: 0.0043, RMSE: 0.0659, R²: 0.9373, MAPE: 11.9425\n",
      "2025-07-17 12:09:19 - BERT_Trainer - INFO - Validating on validation dataset\n"
     ]
    },
    {
     "name": "stderr",
     "output_type": "stream",
     "text": [
      "\n",
      "Validation: 100%|██████████| 8/8 [00:01<00:00,  7.37it/s]"
     ]
    },
    {
     "name": "stdout",
     "output_type": "stream",
     "text": [
      "2025-07-17 12:09:20 - BERT_Trainer - INFO - Validation loss: 0.0052\n",
      "2025-07-17 12:09:20 - BERT_Trainer - INFO - Validation Metrics - MAE: 0.0500, MSE: 0.0052, RMSE: 0.0718, R²: 0.9168, MAPE: 12.6680\n",
      "2025-07-17 12:09:20 - BERT_Trainer - INFO - Validation loss improved. Saving model.\n"
     ]
    },
    {
     "name": "stderr",
     "output_type": "stream",
     "text": [
      "\n"
     ]
    },
    {
     "name": "stdout",
     "output_type": "stream",
     "text": [
      "2025-07-17 12:09:21 - BERT_Trainer - INFO - Model saved at /home/bilito/Documents/FRONT_RG/coco/model_registry/best_model.pth\n",
      "2025-07-17 12:09:21 - BERT_Trainer - INFO - Epoch 8/500\n"
     ]
    },
    {
     "name": "stderr",
     "output_type": "stream",
     "text": [
      "Training: 100%|██████████| 38/38 [00:20<00:00,  1.82it/s]"
     ]
    },
    {
     "name": "stdout",
     "output_type": "stream",
     "text": [
      "2025-07-17 12:09:42 - BERT_Trainer - INFO - Training loss: 0.0032\n",
      "2025-07-17 12:09:42 - BERT_Trainer - INFO - Training Metrics - MAE: 0.0433, MSE: 0.0032, RMSE: 0.0568, R²: 0.9534, MAPE: 10.3415\n",
      "2025-07-17 12:09:42 - BERT_Trainer - INFO - Validating on validation dataset\n"
     ]
    },
    {
     "name": "stderr",
     "output_type": "stream",
     "text": [
      "\n",
      "Validation: 100%|██████████| 8/8 [00:01<00:00,  7.30it/s]"
     ]
    },
    {
     "name": "stdout",
     "output_type": "stream",
     "text": [
      "2025-07-17 12:09:43 - BERT_Trainer - INFO - Validation loss: 0.0060\n",
      "2025-07-17 12:09:43 - BERT_Trainer - INFO - Validation Metrics - MAE: 0.0551, MSE: 0.0060, RMSE: 0.0773, R²: 0.9037, MAPE: 14.2812\n",
      "2025-07-17 12:09:43 - BERT_Trainer - INFO - Validation loss did not improve. Patience: 1/5\n",
      "2025-07-17 12:09:43 - BERT_Trainer - INFO - Epoch 9/500\n"
     ]
    },
    {
     "name": "stderr",
     "output_type": "stream",
     "text": [
      "\n",
      "Training: 100%|██████████| 38/38 [00:20<00:00,  1.82it/s]"
     ]
    },
    {
     "name": "stdout",
     "output_type": "stream",
     "text": [
      "2025-07-17 12:10:04 - BERT_Trainer - INFO - Training loss: 0.0041\n",
      "2025-07-17 12:10:04 - BERT_Trainer - INFO - Training Metrics - MAE: 0.0497, MSE: 0.0040, RMSE: 0.0634, R²: 0.9419, MAPE: 11.9662\n",
      "2025-07-17 12:10:04 - BERT_Trainer - INFO - Validating on validation dataset\n"
     ]
    },
    {
     "name": "stderr",
     "output_type": "stream",
     "text": [
      "\n",
      "Validation: 100%|██████████| 8/8 [00:01<00:00,  7.21it/s]"
     ]
    },
    {
     "name": "stdout",
     "output_type": "stream",
     "text": [
      "2025-07-17 12:10:06 - BERT_Trainer - INFO - Validation loss: 0.0069\n",
      "2025-07-17 12:10:06 - BERT_Trainer - INFO - Validation Metrics - MAE: 0.0572, MSE: 0.0069, RMSE: 0.0830, R²: 0.8889, MAPE: 14.3080\n",
      "2025-07-17 12:10:06 - BERT_Trainer - INFO - Validation loss did not improve. Patience: 2/5\n",
      "2025-07-17 12:10:06 - BERT_Trainer - INFO - Epoch 10/500\n"
     ]
    },
    {
     "name": "stderr",
     "output_type": "stream",
     "text": [
      "\n",
      "Training: 100%|██████████| 38/38 [00:20<00:00,  1.82it/s]"
     ]
    },
    {
     "name": "stdout",
     "output_type": "stream",
     "text": [
      "2025-07-17 12:10:26 - BERT_Trainer - INFO - Training loss: 0.0030\n",
      "2025-07-17 12:10:26 - BERT_Trainer - INFO - Training Metrics - MAE: 0.0423, MSE: 0.0030, RMSE: 0.0547, R²: 0.9568, MAPE: 10.0089\n",
      "2025-07-17 12:10:26 - BERT_Trainer - INFO - Validating on validation dataset\n"
     ]
    },
    {
     "name": "stderr",
     "output_type": "stream",
     "text": [
      "\n",
      "Validation: 100%|██████████| 8/8 [00:01<00:00,  7.19it/s]"
     ]
    },
    {
     "name": "stdout",
     "output_type": "stream",
     "text": [
      "2025-07-17 12:10:27 - BERT_Trainer - INFO - Validation loss: 0.0051\n",
      "2025-07-17 12:10:27 - BERT_Trainer - INFO - Validation Metrics - MAE: 0.0510, MSE: 0.0051, RMSE: 0.0714, R²: 0.9178, MAPE: 12.2642\n",
      "2025-07-17 12:10:27 - BERT_Trainer - INFO - Validation loss improved. Saving model.\n"
     ]
    },
    {
     "name": "stderr",
     "output_type": "stream",
     "text": [
      "\n"
     ]
    },
    {
     "name": "stdout",
     "output_type": "stream",
     "text": [
      "2025-07-17 12:10:29 - BERT_Trainer - INFO - Model saved at /home/bilito/Documents/FRONT_RG/coco/model_registry/best_model.pth\n",
      "2025-07-17 12:10:29 - BERT_Trainer - INFO - Epoch 11/500\n"
     ]
    },
    {
     "name": "stderr",
     "output_type": "stream",
     "text": [
      "Training: 100%|██████████| 38/38 [00:20<00:00,  1.82it/s]"
     ]
    },
    {
     "name": "stdout",
     "output_type": "stream",
     "text": [
      "2025-07-17 12:10:50 - BERT_Trainer - INFO - Training loss: 0.0028\n",
      "2025-07-17 12:10:50 - BERT_Trainer - INFO - Training Metrics - MAE: 0.0420, MSE: 0.0028, RMSE: 0.0530, R²: 0.9594, MAPE: 9.8965\n",
      "2025-07-17 12:10:50 - BERT_Trainer - INFO - Validating on validation dataset\n"
     ]
    },
    {
     "name": "stderr",
     "output_type": "stream",
     "text": [
      "\n",
      "Validation: 100%|██████████| 8/8 [00:01<00:00,  7.23it/s]"
     ]
    },
    {
     "name": "stdout",
     "output_type": "stream",
     "text": [
      "2025-07-17 12:10:51 - BERT_Trainer - INFO - Validation loss: 0.0059\n",
      "2025-07-17 12:10:51 - BERT_Trainer - INFO - Validation Metrics - MAE: 0.0485, MSE: 0.0059, RMSE: 0.0766, R²: 0.9054, MAPE: 11.8327\n",
      "2025-07-17 12:10:51 - BERT_Trainer - INFO - Validation loss did not improve. Patience: 1/5\n",
      "2025-07-17 12:10:51 - BERT_Trainer - INFO - Epoch 12/500\n"
     ]
    },
    {
     "name": "stderr",
     "output_type": "stream",
     "text": [
      "\n",
      "Training: 100%|██████████| 38/38 [00:20<00:00,  1.81it/s]"
     ]
    },
    {
     "name": "stdout",
     "output_type": "stream",
     "text": [
      "2025-07-17 12:11:12 - BERT_Trainer - INFO - Training loss: 0.0024\n",
      "2025-07-17 12:11:12 - BERT_Trainer - INFO - Training Metrics - MAE: 0.0385, MSE: 0.0025, RMSE: 0.0495, R²: 0.9646, MAPE: 9.3928\n",
      "2025-07-17 12:11:12 - BERT_Trainer - INFO - Validating on validation dataset\n"
     ]
    },
    {
     "name": "stderr",
     "output_type": "stream",
     "text": [
      "\n",
      "Validation: 100%|██████████| 8/8 [00:01<00:00,  7.18it/s]"
     ]
    },
    {
     "name": "stdout",
     "output_type": "stream",
     "text": [
      "2025-07-17 12:11:13 - BERT_Trainer - INFO - Validation loss: 0.0048\n",
      "2025-07-17 12:11:13 - BERT_Trainer - INFO - Validation Metrics - MAE: 0.0476, MSE: 0.0048, RMSE: 0.0693, R²: 0.9226, MAPE: 13.4225\n",
      "2025-07-17 12:11:13 - BERT_Trainer - INFO - Validation loss improved. Saving model.\n"
     ]
    },
    {
     "name": "stderr",
     "output_type": "stream",
     "text": [
      "\n"
     ]
    },
    {
     "name": "stdout",
     "output_type": "stream",
     "text": [
      "2025-07-17 12:11:15 - BERT_Trainer - INFO - Model saved at /home/bilito/Documents/FRONT_RG/coco/model_registry/best_model.pth\n",
      "2025-07-17 12:11:15 - BERT_Trainer - INFO - Epoch 13/500\n"
     ]
    },
    {
     "name": "stderr",
     "output_type": "stream",
     "text": [
      "Training: 100%|██████████| 38/38 [00:20<00:00,  1.81it/s]"
     ]
    },
    {
     "name": "stdout",
     "output_type": "stream",
     "text": [
      "2025-07-17 12:11:36 - BERT_Trainer - INFO - Training loss: 0.0024\n",
      "2025-07-17 12:11:36 - BERT_Trainer - INFO - Training Metrics - MAE: 0.0365, MSE: 0.0023, RMSE: 0.0479, R²: 0.9669, MAPE: 8.6003\n",
      "2025-07-17 12:11:36 - BERT_Trainer - INFO - Validating on validation dataset\n"
     ]
    },
    {
     "name": "stderr",
     "output_type": "stream",
     "text": [
      "\n",
      "Validation: 100%|██████████| 8/8 [00:01<00:00,  7.23it/s]"
     ]
    },
    {
     "name": "stdout",
     "output_type": "stream",
     "text": [
      "2025-07-17 12:11:37 - BERT_Trainer - INFO - Validation loss: 0.0061\n",
      "2025-07-17 12:11:37 - BERT_Trainer - INFO - Validation Metrics - MAE: 0.0516, MSE: 0.0061, RMSE: 0.0784, R²: 0.9008, MAPE: 14.3348\n",
      "2025-07-17 12:11:37 - BERT_Trainer - INFO - Validation loss did not improve. Patience: 1/5\n",
      "2025-07-17 12:11:37 - BERT_Trainer - INFO - Epoch 14/500\n"
     ]
    },
    {
     "name": "stderr",
     "output_type": "stream",
     "text": [
      "\n",
      "Training: 100%|██████████| 38/38 [00:20<00:00,  1.82it/s]"
     ]
    },
    {
     "name": "stdout",
     "output_type": "stream",
     "text": [
      "2025-07-17 12:11:58 - BERT_Trainer - INFO - Training loss: 0.0019\n",
      "2025-07-17 12:11:58 - BERT_Trainer - INFO - Training Metrics - MAE: 0.0336, MSE: 0.0019, RMSE: 0.0436, R²: 0.9725, MAPE: 8.0298\n",
      "2025-07-17 12:11:58 - BERT_Trainer - INFO - Validating on validation dataset\n"
     ]
    },
    {
     "name": "stderr",
     "output_type": "stream",
     "text": [
      "\n",
      "Validation: 100%|██████████| 8/8 [00:01<00:00,  7.19it/s]"
     ]
    },
    {
     "name": "stdout",
     "output_type": "stream",
     "text": [
      "2025-07-17 12:11:59 - BERT_Trainer - INFO - Validation loss: 0.0065\n",
      "2025-07-17 12:11:59 - BERT_Trainer - INFO - Validation Metrics - MAE: 0.0497, MSE: 0.0065, RMSE: 0.0804, R²: 0.8959, MAPE: 13.3465\n",
      "2025-07-17 12:11:59 - BERT_Trainer - INFO - Validation loss did not improve. Patience: 2/5\n",
      "2025-07-17 12:11:59 - BERT_Trainer - INFO - Epoch 15/500\n"
     ]
    },
    {
     "name": "stderr",
     "output_type": "stream",
     "text": [
      "\n",
      "Training: 100%|██████████| 38/38 [00:21<00:00,  1.77it/s]"
     ]
    },
    {
     "name": "stdout",
     "output_type": "stream",
     "text": [
      "2025-07-17 12:12:20 - BERT_Trainer - INFO - Training loss: 0.0017\n",
      "2025-07-17 12:12:20 - BERT_Trainer - INFO - Training Metrics - MAE: 0.0328, MSE: 0.0017, RMSE: 0.0415, R²: 0.9751, MAPE: 7.5181\n",
      "2025-07-17 12:12:20 - BERT_Trainer - INFO - Validating on validation dataset\n"
     ]
    },
    {
     "name": "stderr",
     "output_type": "stream",
     "text": [
      "\n",
      "Validation: 100%|██████████| 8/8 [00:01<00:00,  7.15it/s]"
     ]
    },
    {
     "name": "stdout",
     "output_type": "stream",
     "text": [
      "2025-07-17 12:12:21 - BERT_Trainer - INFO - Validation loss: 0.0048\n",
      "2025-07-17 12:12:21 - BERT_Trainer - INFO - Validation Metrics - MAE: 0.0446, MSE: 0.0048, RMSE: 0.0693, R²: 0.9225, MAPE: 11.5349\n",
      "2025-07-17 12:12:21 - BERT_Trainer - INFO - Validation loss did not improve. Patience: 3/5\n",
      "2025-07-17 12:12:21 - BERT_Trainer - INFO - Epoch 16/500\n"
     ]
    },
    {
     "name": "stderr",
     "output_type": "stream",
     "text": [
      "\n",
      "Training: 100%|██████████| 38/38 [00:21<00:00,  1.80it/s]"
     ]
    },
    {
     "name": "stdout",
     "output_type": "stream",
     "text": [
      "2025-07-17 12:12:42 - BERT_Trainer - INFO - Training loss: 0.0015\n",
      "2025-07-17 12:12:42 - BERT_Trainer - INFO - Training Metrics - MAE: 0.0303, MSE: 0.0016, RMSE: 0.0395, R²: 0.9774, MAPE: 6.8774\n",
      "2025-07-17 12:12:42 - BERT_Trainer - INFO - Validating on validation dataset\n"
     ]
    },
    {
     "name": "stderr",
     "output_type": "stream",
     "text": [
      "\n",
      "Validation: 100%|██████████| 8/8 [00:01<00:00,  7.22it/s]"
     ]
    },
    {
     "name": "stdout",
     "output_type": "stream",
     "text": [
      "2025-07-17 12:12:44 - BERT_Trainer - INFO - Validation loss: 0.0050\n",
      "2025-07-17 12:12:44 - BERT_Trainer - INFO - Validation Metrics - MAE: 0.0472, MSE: 0.0050, RMSE: 0.0708, R²: 0.9192, MAPE: 12.2162\n",
      "2025-07-17 12:12:44 - BERT_Trainer - INFO - Validation loss did not improve. Patience: 4/5\n",
      "2025-07-17 12:12:44 - BERT_Trainer - INFO - Epoch 17/500\n"
     ]
    },
    {
     "name": "stderr",
     "output_type": "stream",
     "text": [
      "\n",
      "Training: 100%|██████████| 38/38 [00:21<00:00,  1.81it/s]"
     ]
    },
    {
     "name": "stdout",
     "output_type": "stream",
     "text": [
      "2025-07-17 12:13:05 - BERT_Trainer - INFO - Training loss: 0.0014\n",
      "2025-07-17 12:13:05 - BERT_Trainer - INFO - Training Metrics - MAE: 0.0295, MSE: 0.0015, RMSE: 0.0382, R²: 0.9789, MAPE: 7.1412\n",
      "2025-07-17 12:13:05 - BERT_Trainer - INFO - Validating on validation dataset\n"
     ]
    },
    {
     "name": "stderr",
     "output_type": "stream",
     "text": [
      "\n",
      "Validation: 100%|██████████| 8/8 [00:01<00:00,  7.12it/s]"
     ]
    },
    {
     "name": "stdout",
     "output_type": "stream",
     "text": [
      "2025-07-17 12:13:06 - BERT_Trainer - INFO - Validation loss: 0.0054\n",
      "2025-07-17 12:13:06 - BERT_Trainer - INFO - Validation Metrics - MAE: 0.0481, MSE: 0.0054, RMSE: 0.0735, R²: 0.9129, MAPE: 11.9285\n",
      "2025-07-17 12:13:06 - BERT_Trainer - INFO - Validation loss did not improve. Patience: 5/5\n",
      "2025-07-17 12:13:06 - BERT_Trainer - INFO - ⏹Early stopping triggered.\n",
      "2025-07-17 12:13:06 - BERT_Trainer - INFO - Validating on test dataset\n"
     ]
    },
    {
     "name": "stderr",
     "output_type": "stream",
     "text": [
      "\n",
      "Validation: 100%|██████████| 8/8 [00:01<00:00,  7.17it/s]"
     ]
    },
    {
     "name": "stdout",
     "output_type": "stream",
     "text": [
      "2025-07-17 12:13:07 - BERT_Trainer - INFO - Test loss: 0.0039\n",
      "2025-07-17 12:13:07 - BERT_Trainer - INFO - Test Metrics - MAE: 0.0484, MSE: 0.0039, RMSE: 0.0621, R²: 0.9352, MAPE: 11.2800\n"
     ]
    },
    {
     "name": "stderr",
     "output_type": "stream",
     "text": [
      "\n"
     ]
    }
   ],
   "source": [
    "run_bert()"
   ]
  },
  {
   "cell_type": "markdown",
   "id": "7993df6c",
   "metadata": {},
   "source": [
    "### Evaluation"
   ]
  },
  {
   "cell_type": "code",
   "execution_count": 4,
   "id": "89c02dbc",
   "metadata": {},
   "outputs": [],
   "source": [
    "results_path = os.path.join(REGISTRY_DIR, \"metrics.json\")\n",
    "\n",
    "with open(results_path, \"r\") as f:\n",
    "    results = json.load(f)"
   ]
  },
  {
   "cell_type": "code",
   "execution_count": 5,
   "id": "f4f20c77",
   "metadata": {},
   "outputs": [
    {
     "data": {
      "text/html": [
       "<div>\n",
       "<style scoped>\n",
       "    .dataframe tbody tr th:only-of-type {\n",
       "        vertical-align: middle;\n",
       "    }\n",
       "\n",
       "    .dataframe tbody tr th {\n",
       "        vertical-align: top;\n",
       "    }\n",
       "\n",
       "    .dataframe thead th {\n",
       "        text-align: right;\n",
       "    }\n",
       "</style>\n",
       "<table border=\"1\" class=\"dataframe\">\n",
       "  <thead>\n",
       "    <tr style=\"text-align: right;\">\n",
       "      <th></th>\n",
       "      <th>epoch</th>\n",
       "      <th>mae</th>\n",
       "      <th>mse</th>\n",
       "      <th>rmse</th>\n",
       "      <th>r2</th>\n",
       "      <th>mape</th>\n",
       "      <th>val_loss</th>\n",
       "      <th>train_loss</th>\n",
       "    </tr>\n",
       "  </thead>\n",
       "  <tbody>\n",
       "    <tr>\n",
       "      <th>0</th>\n",
       "      <td>1</td>\n",
       "      <td>0.143258</td>\n",
       "      <td>0.033889</td>\n",
       "      <td>0.184090</td>\n",
       "      <td>0.453461</td>\n",
       "      <td>36.450577</td>\n",
       "      <td>0.033889</td>\n",
       "      <td>0.086382</td>\n",
       "    </tr>\n",
       "    <tr>\n",
       "      <th>1</th>\n",
       "      <td>2</td>\n",
       "      <td>0.096376</td>\n",
       "      <td>0.015638</td>\n",
       "      <td>0.125052</td>\n",
       "      <td>0.747800</td>\n",
       "      <td>22.832984</td>\n",
       "      <td>0.015638</td>\n",
       "      <td>0.039449</td>\n",
       "    </tr>\n",
       "    <tr>\n",
       "      <th>2</th>\n",
       "      <td>3</td>\n",
       "      <td>0.077705</td>\n",
       "      <td>0.010934</td>\n",
       "      <td>0.104567</td>\n",
       "      <td>0.823661</td>\n",
       "      <td>19.545099</td>\n",
       "      <td>0.010934</td>\n",
       "      <td>0.017810</td>\n",
       "    </tr>\n",
       "    <tr>\n",
       "      <th>3</th>\n",
       "      <td>4</td>\n",
       "      <td>0.065668</td>\n",
       "      <td>0.008904</td>\n",
       "      <td>0.094361</td>\n",
       "      <td>0.856404</td>\n",
       "      <td>16.708171</td>\n",
       "      <td>0.008904</td>\n",
       "      <td>0.011392</td>\n",
       "    </tr>\n",
       "    <tr>\n",
       "      <th>4</th>\n",
       "      <td>5</td>\n",
       "      <td>0.060953</td>\n",
       "      <td>0.008904</td>\n",
       "      <td>0.094363</td>\n",
       "      <td>0.856397</td>\n",
       "      <td>16.135624</td>\n",
       "      <td>0.008904</td>\n",
       "      <td>0.008783</td>\n",
       "    </tr>\n",
       "    <tr>\n",
       "      <th>5</th>\n",
       "      <td>6</td>\n",
       "      <td>0.056220</td>\n",
       "      <td>0.007360</td>\n",
       "      <td>0.085790</td>\n",
       "      <td>0.881304</td>\n",
       "      <td>14.757961</td>\n",
       "      <td>0.007360</td>\n",
       "      <td>0.005192</td>\n",
       "    </tr>\n",
       "    <tr>\n",
       "      <th>6</th>\n",
       "      <td>7</td>\n",
       "      <td>0.050032</td>\n",
       "      <td>0.005162</td>\n",
       "      <td>0.071846</td>\n",
       "      <td>0.916752</td>\n",
       "      <td>12.667973</td>\n",
       "      <td>0.005162</td>\n",
       "      <td>0.004273</td>\n",
       "    </tr>\n",
       "    <tr>\n",
       "      <th>7</th>\n",
       "      <td>8</td>\n",
       "      <td>0.055101</td>\n",
       "      <td>0.005971</td>\n",
       "      <td>0.077274</td>\n",
       "      <td>0.903700</td>\n",
       "      <td>14.281172</td>\n",
       "      <td>0.005971</td>\n",
       "      <td>0.003192</td>\n",
       "    </tr>\n",
       "    <tr>\n",
       "      <th>8</th>\n",
       "      <td>9</td>\n",
       "      <td>0.057197</td>\n",
       "      <td>0.006888</td>\n",
       "      <td>0.082994</td>\n",
       "      <td>0.888914</td>\n",
       "      <td>14.308040</td>\n",
       "      <td>0.006888</td>\n",
       "      <td>0.004063</td>\n",
       "    </tr>\n",
       "    <tr>\n",
       "      <th>9</th>\n",
       "      <td>10</td>\n",
       "      <td>0.050991</td>\n",
       "      <td>0.005094</td>\n",
       "      <td>0.071373</td>\n",
       "      <td>0.917846</td>\n",
       "      <td>12.264165</td>\n",
       "      <td>0.005094</td>\n",
       "      <td>0.002962</td>\n",
       "    </tr>\n",
       "    <tr>\n",
       "      <th>10</th>\n",
       "      <td>11</td>\n",
       "      <td>0.048491</td>\n",
       "      <td>0.005866</td>\n",
       "      <td>0.076590</td>\n",
       "      <td>0.905397</td>\n",
       "      <td>11.832699</td>\n",
       "      <td>0.005866</td>\n",
       "      <td>0.002832</td>\n",
       "    </tr>\n",
       "    <tr>\n",
       "      <th>11</th>\n",
       "      <td>12</td>\n",
       "      <td>0.047600</td>\n",
       "      <td>0.004798</td>\n",
       "      <td>0.069267</td>\n",
       "      <td>0.922622</td>\n",
       "      <td>13.422516</td>\n",
       "      <td>0.004798</td>\n",
       "      <td>0.002432</td>\n",
       "    </tr>\n",
       "    <tr>\n",
       "      <th>12</th>\n",
       "      <td>13</td>\n",
       "      <td>0.051625</td>\n",
       "      <td>0.006148</td>\n",
       "      <td>0.078411</td>\n",
       "      <td>0.900844</td>\n",
       "      <td>14.334804</td>\n",
       "      <td>0.006148</td>\n",
       "      <td>0.002363</td>\n",
       "    </tr>\n",
       "    <tr>\n",
       "      <th>13</th>\n",
       "      <td>14</td>\n",
       "      <td>0.049651</td>\n",
       "      <td>0.006457</td>\n",
       "      <td>0.080355</td>\n",
       "      <td>0.895867</td>\n",
       "      <td>13.346478</td>\n",
       "      <td>0.006457</td>\n",
       "      <td>0.001882</td>\n",
       "    </tr>\n",
       "    <tr>\n",
       "      <th>14</th>\n",
       "      <td>15</td>\n",
       "      <td>0.044597</td>\n",
       "      <td>0.004808</td>\n",
       "      <td>0.069342</td>\n",
       "      <td>0.922455</td>\n",
       "      <td>11.534882</td>\n",
       "      <td>0.004808</td>\n",
       "      <td>0.001713</td>\n",
       "    </tr>\n",
       "    <tr>\n",
       "      <th>15</th>\n",
       "      <td>16</td>\n",
       "      <td>0.047191</td>\n",
       "      <td>0.005008</td>\n",
       "      <td>0.070766</td>\n",
       "      <td>0.919236</td>\n",
       "      <td>12.216214</td>\n",
       "      <td>0.005008</td>\n",
       "      <td>0.001535</td>\n",
       "    </tr>\n",
       "    <tr>\n",
       "      <th>16</th>\n",
       "      <td>17</td>\n",
       "      <td>0.048055</td>\n",
       "      <td>0.005403</td>\n",
       "      <td>0.073503</td>\n",
       "      <td>0.912869</td>\n",
       "      <td>11.928464</td>\n",
       "      <td>0.005403</td>\n",
       "      <td>0.001438</td>\n",
       "    </tr>\n",
       "  </tbody>\n",
       "</table>\n",
       "</div>"
      ],
      "text/plain": [
       "   epoch       mae       mse      rmse        r2       mape  val_loss  \\\n",
       "0      1  0.143258  0.033889  0.184090  0.453461  36.450577  0.033889   \n",
       "1      2  0.096376  0.015638  0.125052  0.747800  22.832984  0.015638   \n",
       "2      3  0.077705  0.010934  0.104567  0.823661  19.545099  0.010934   \n",
       "3      4  0.065668  0.008904  0.094361  0.856404  16.708171  0.008904   \n",
       "4      5  0.060953  0.008904  0.094363  0.856397  16.135624  0.008904   \n",
       "5      6  0.056220  0.007360  0.085790  0.881304  14.757961  0.007360   \n",
       "6      7  0.050032  0.005162  0.071846  0.916752  12.667973  0.005162   \n",
       "7      8  0.055101  0.005971  0.077274  0.903700  14.281172  0.005971   \n",
       "8      9  0.057197  0.006888  0.082994  0.888914  14.308040  0.006888   \n",
       "9     10  0.050991  0.005094  0.071373  0.917846  12.264165  0.005094   \n",
       "10    11  0.048491  0.005866  0.076590  0.905397  11.832699  0.005866   \n",
       "11    12  0.047600  0.004798  0.069267  0.922622  13.422516  0.004798   \n",
       "12    13  0.051625  0.006148  0.078411  0.900844  14.334804  0.006148   \n",
       "13    14  0.049651  0.006457  0.080355  0.895867  13.346478  0.006457   \n",
       "14    15  0.044597  0.004808  0.069342  0.922455  11.534882  0.004808   \n",
       "15    16  0.047191  0.005008  0.070766  0.919236  12.216214  0.005008   \n",
       "16    17  0.048055  0.005403  0.073503  0.912869  11.928464  0.005403   \n",
       "\n",
       "    train_loss  \n",
       "0     0.086382  \n",
       "1     0.039449  \n",
       "2     0.017810  \n",
       "3     0.011392  \n",
       "4     0.008783  \n",
       "5     0.005192  \n",
       "6     0.004273  \n",
       "7     0.003192  \n",
       "8     0.004063  \n",
       "9     0.002962  \n",
       "10    0.002832  \n",
       "11    0.002432  \n",
       "12    0.002363  \n",
       "13    0.001882  \n",
       "14    0.001713  \n",
       "15    0.001535  \n",
       "16    0.001438  "
      ]
     },
     "execution_count": 5,
     "metadata": {},
     "output_type": "execute_result"
    }
   ],
   "source": [
    "results_df = pd.DataFrame(results[\"train\"]).T.reset_index().rename(columns={\"index\": \"epoch\"})\n",
    "results_df"
   ]
  },
  {
   "cell_type": "code",
   "execution_count": 6,
   "id": "120da629",
   "metadata": {},
   "outputs": [
    {
     "data": {
      "image/png": "[encoded data removed]",
      "text/plain": [
       "<IPython.core.display.Image object>"
      ]
     },
     "execution_count": 6,
     "metadata": {},
     "output_type": "execute_result"
    }
   ],
   "source": [
    "fig = px.line(results_df, x=\"epoch\", y=[\"val_loss\", \"train_loss\"])\n",
    "fig.update_layout(title=\"Losses\", xaxis_title=\"Epoch\", yaxis_title=\"Loss\")\n",
    "Image(fig.to_image())\n"
   ]
  },
  {
   "cell_type": "code",
   "execution_count": 7,
   "id": "0a4be1bf",
   "metadata": {},
   "outputs": [
    {
     "data": {
      "image/png": "[encoded data removed]",
      "text/plain": [
       "<IPython.core.display.Image object>"
      ]
     },
     "execution_count": 7,
     "metadata": {},
     "output_type": "execute_result"
    }
   ],
   "source": [
    "# Display the r2 metric \n",
    "fig = px.line(results_df, x=\"epoch\", y=[\"r2\"])\n",
    "fig.update_layout(title=\"Validation R2\", xaxis_title=\"Epoch\", yaxis_title=\"R2\")\n",
    "Image(fig.to_image())"
   ]
  },
  {
   "cell_type": "code",
   "execution_count": 8,
   "id": "feaf038d",
   "metadata": {},
   "outputs": [
    {
     "data": {
      "image/png": "[encoded data removed]",
      "text/plain": [
       "<IPython.core.display.Image object>"
      ]
     },
     "execution_count": 8,
     "metadata": {},
     "output_type": "execute_result"
    }
   ],
   "source": [
    "fig = px.line(results_df, x=\"epoch\", y=[\"mae\", \"rmse\"])\n",
    "fig.update_layout(title=\"Validation Error Metrics\", xaxis_title=\"Epoch\", yaxis_title=\"Error\")\n",
    "Image(fig.to_image())"
   ]
  },
  {
   "cell_type": "code",
   "execution_count": 9,
   "id": "7752315a",
   "metadata": {},
   "outputs": [
    {
     "data": {
      "text/plain": [
       "epoch                12\n",
       "mae              0.0476\n",
       "mse            0.004798\n",
       "rmse           0.069267\n",
       "r2             0.922622\n",
       "mape          13.422516\n",
       "val_loss       0.004798\n",
       "train_loss     0.002432\n",
       "Name: 11, dtype: object"
      ]
     },
     "execution_count": 9,
     "metadata": {},
     "output_type": "execute_result"
    }
   ],
   "source": [
    "# Best metrics and loss\n",
    "best_val_metrics = results_df.iloc[results_df[\"val_loss\"].idxmin()]\n",
    "best_val_metrics"
   ]
  },
  {
   "cell_type": "markdown",
   "id": "3bfdd720",
   "metadata": {},
   "source": [
    "#### Test subset metrics"
   ]
  },
  {
   "cell_type": "code",
   "execution_count": 10,
   "id": "8c83dfb4",
   "metadata": {},
   "outputs": [
    {
     "data": {
      "text/html": [
       "<div>\n",
       "<style scoped>\n",
       "    .dataframe tbody tr th:only-of-type {\n",
       "        vertical-align: middle;\n",
       "    }\n",
       "\n",
       "    .dataframe tbody tr th {\n",
       "        vertical-align: top;\n",
       "    }\n",
       "\n",
       "    .dataframe thead th {\n",
       "        text-align: right;\n",
       "    }\n",
       "</style>\n",
       "<table border=\"1\" class=\"dataframe\">\n",
       "  <thead>\n",
       "    <tr style=\"text-align: right;\">\n",
       "      <th></th>\n",
       "      <th>0</th>\n",
       "    </tr>\n",
       "  </thead>\n",
       "  <tbody>\n",
       "    <tr>\n",
       "      <th>mae</th>\n",
       "      <td>0.048383</td>\n",
       "    </tr>\n",
       "    <tr>\n",
       "      <th>mse</th>\n",
       "      <td>0.003860</td>\n",
       "    </tr>\n",
       "    <tr>\n",
       "      <th>rmse</th>\n",
       "      <td>0.062127</td>\n",
       "    </tr>\n",
       "    <tr>\n",
       "      <th>r2</th>\n",
       "      <td>0.935158</td>\n",
       "    </tr>\n",
       "    <tr>\n",
       "      <th>mape</th>\n",
       "      <td>11.280014</td>\n",
       "    </tr>\n",
       "    <tr>\n",
       "      <th>val_loss</th>\n",
       "      <td>0.003860</td>\n",
       "    </tr>\n",
       "  </tbody>\n",
       "</table>\n",
       "</div>"
      ],
      "text/plain": [
       "                  0\n",
       "mae        0.048383\n",
       "mse        0.003860\n",
       "rmse       0.062127\n",
       "r2         0.935158\n",
       "mape      11.280014\n",
       "val_loss   0.003860"
      ]
     },
     "execution_count": 10,
     "metadata": {},
     "output_type": "execute_result"
    }
   ],
   "source": [
    "# Test metrics\n",
    "test_results_df = pd.DataFrame.from_dict(results[\"test\"], orient=\"index\")\n",
    "test_results_df"
   ]
  },
  {
   "cell_type": "markdown",
   "id": "a2cda515",
   "metadata": {},
   "source": [
    "### Inference"
   ]
  },
  {
   "cell_type": "code",
   "execution_count": 11,
   "id": "e1b4a368",
   "metadata": {},
   "outputs": [
    {
     "name": "stdout",
     "output_type": "stream",
     "text": [
      "2025-07-17 12:13:14 - coco.inference.bert_inference - INFO - Loading model from /home/bilito/Documents/FRONT_RG/coco/model_registry/best_model.pth\n"
     ]
    }
   ],
   "source": [
    "inf_h = InferenceHandler(model_weights_path=os.path.join(REGISTRY_DIR, \"best_model.pth\"))"
   ]
  },
  {
   "cell_type": "code",
   "execution_count": 12,
   "id": "fa25f301",
   "metadata": {},
   "outputs": [
    {
     "name": "stdout",
     "output_type": "stream",
     "text": [
      "Label: Privacy, Text: Respect user data, Score: 63.58330249786377\n",
      "Label: Reliability, Text: Ensure high uptime, Score: 68.43105554580688\n",
      "Label: Security, Text: Use encryption, Score: 83.53579044342041\n",
      "Label: Privacy, Text: Consent management, Score: 82.88752436637878\n"
     ]
    }
   ],
   "source": [
    "data = [\n",
    "        {\"label\": \"Privacy\", \"text\": \"Respect user data\"},\n",
    "        {\"label\": \"Reliability\", \"text\": \"Ensure high uptime\"},\n",
    "        {\"label\": \"Security\", \"text\": \"Use encryption\"},\n",
    "        {\"label\": \"Privacy\", \"text\": \"Consent management\"}\n",
    "    ]\n",
    "\n",
    "for d in data:\n",
    "    print(f\"Label: {d['label']}, Text: {d['text']}, Score: {inf_h.inference(d['text'], d['label'])}\")"
   ]
  }
 ],
 "metadata": {
  "kernelspec": {
   "display_name": "coco",
   "language": "python",
   "name": "python3"
  },
  "language_info": {
   "codemirror_mode": {
    "name": "ipython",
    "version": 3
   },
   "file_extension": ".py",
   "mimetype": "text/x-python",
   "name": "python",
   "nbconvert_exporter": "python",
   "pygments_lexer": "ipython3",
   "version": "3.12.6"
  }
 },
 "nbformat": 4,
 "nbformat_minor": 5
}
